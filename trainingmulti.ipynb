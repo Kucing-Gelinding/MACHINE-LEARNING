{
  "cells": [
    {
      "cell_type": "markdown",
      "metadata": {
        "id": "view-in-github",
        "colab_type": "text"
      },
      "source": [
        "<a href=\"https://colab.research.google.com/github/sekartalok/TFPICTURE.END/blob/main/trainingmulti.ipynb\" target=\"_parent\"><img src=\"https://colab.research.google.com/assets/colab-badge.svg\" alt=\"Open In Colab\"/></a>"
      ]
    },
    {
      "cell_type": "code",
      "execution_count": null,
      "metadata": {
        "id": "jYRKTdv6sbao"
      },
      "outputs": [],
      "source": [
        "import numpy as np\n",
        "import tensorflow as tf\n",
        "import matplotlib.pyplot as plt\n",
        "from google.colab import files"
      ]
    },
    {
      "cell_type": "code",
      "execution_count": null,
      "metadata": {
        "id": "9RU8IncU_B_b"
      },
      "outputs": [],
      "source": [
        "import numpy as np\n",
        "import tensorflow as tf\n",
        "\n",
        "def load_and_prepare_data(npz_path='/content/drive/MyDrive/data_augmented.npz', batch_size=128):\n",
        "\n",
        "    data = np.load(npz_path)\n",
        "\n",
        "    train_images = data['train_images']\n",
        "    train_labels = data['train_labels']\n",
        "    val_images = data['val_images']\n",
        "    val_labels = data['val_labels']\n",
        "\n",
        "\n",
        "    train_images = train_images.astype(np.float32) / 255.0\n",
        "    val_images = val_images.astype(np.float32) / 255.0\n",
        "\n",
        "\n",
        "    train_dataset = tf.data.Dataset.from_tensor_slices((train_images, train_labels))\n",
        "    validation_dataset = tf.data.Dataset.from_tensor_slices((val_images, val_labels))\n",
        "\n",
        "\n",
        "    train_dataset = train_dataset.shuffle(buffer_size=1000).batch(batch_size).prefetch(tf.data.AUTOTUNE)\n",
        "    validation_dataset = validation_dataset.batch(batch_size).prefetch(tf.data.AUTOTUNE)\n",
        "\n",
        "    return train_dataset, validation_dataset\n",
        "\n",
        "\n"
      ]
    },
    {
      "cell_type": "code",
      "execution_count": null,
      "metadata": {
        "id": "Hx8z-UfM_ROf"
      },
      "outputs": [],
      "source": [
        "train_dataset, validation_dataset=load_and_prepare_data()"
      ]
    },
    {
      "cell_type": "code",
      "execution_count": 2,
      "metadata": {
        "colab": {
          "base_uri": "https://localhost:8080/",
          "height": 193
        },
        "id": "D5OxJFIsSIns",
        "outputId": "bbea1d51-8bd1-4954-d793-f02baa21d051"
      },
      "outputs": [
        {
          "output_type": "error",
          "ename": "NameError",
          "evalue": "name 'train_dataset' is not defined",
          "traceback": [
            "\u001b[0;31m---------------------------------------------------------------------------\u001b[0m",
            "\u001b[0;31mNameError\u001b[0m                                 Traceback (most recent call last)",
            "\u001b[0;32m<ipython-input-2-05097a7c8fd9>\u001b[0m in \u001b[0;36m<cell line: 29>\u001b[0;34m()\u001b[0m\n\u001b[1;32m     27\u001b[0m \u001b[0;34m\u001b[0m\u001b[0m\n\u001b[1;32m     28\u001b[0m \u001b[0;31m# Example usage to display training and validation samples\u001b[0m\u001b[0;34m\u001b[0m\u001b[0;34m\u001b[0m\u001b[0m\n\u001b[0;32m---> 29\u001b[0;31m \u001b[0mdisplay_samples\u001b[0m\u001b[0;34m(\u001b[0m\u001b[0mtrain_dataset\u001b[0m\u001b[0;34m,\u001b[0m \u001b[0mnum_samples\u001b[0m\u001b[0;34m=\u001b[0m\u001b[0;36m22\u001b[0m\u001b[0;34m)\u001b[0m        \u001b[0;31m# Display training samples\u001b[0m\u001b[0;34m\u001b[0m\u001b[0;34m\u001b[0m\u001b[0m\n\u001b[0m\u001b[1;32m     30\u001b[0m \u001b[0;34m\u001b[0m\u001b[0m\n",
            "\u001b[0;31mNameError\u001b[0m: name 'train_dataset' is not defined"
          ]
        }
      ],
      "source": [
        "\n",
        "\n",
        "def display_samples(dataset, num_samples=5):\n",
        "    # Create an iterator from the dataset\n",
        "    dataset_iterator = dataset.as_numpy_iterator()\n",
        "\n",
        "    # Get the first batch of images and labels\n",
        "    images, labels = next(dataset_iterator)\n",
        "\n",
        "    # Check the shape of the images and labels\n",
        "    print(\"Image batch shape:\", images.shape)  # Debugging line to check shape\n",
        "    print(\"Label batch shape:\", labels.shape)  # Debugging line to check shape\n",
        "\n",
        "    # Ensure you only take the first num_samples from the batch\n",
        "    images = images[:num_samples]\n",
        "    labels = labels[:num_samples]\n",
        "\n",
        "    # Set up the plot\n",
        "    plt.figure(figsize=(15, 5))\n",
        "\n",
        "    for i in range(num_samples):\n",
        "        plt.subplot(1, num_samples, i + 1)  # Create a subplot for each sample\n",
        "        plt.imshow(images[i])  # Display the image\n",
        "        plt.title(f'Label: {np.argmax(labels[i])}')  # Display the label (assuming one-hot encoding)\n",
        "        plt.axis('off')  # Hide axis\n",
        "\n",
        "    plt.tight_layout()\n",
        "    plt.show()\n",
        "\n",
        "# Example usage to display training and validation samples\n",
        "display_samples(train_dataset, num_samples=22)        # Display training samples\n",
        "\n"
      ]
    },
    {
      "cell_type": "code",
      "execution_count": null,
      "metadata": {
        "id": "OMjjUIJQCFg5"
      },
      "outputs": [],
      "source": []
    },
    {
      "cell_type": "code",
      "execution_count": null,
      "metadata": {
        "id": "kfffLsouZJE_"
      },
      "outputs": [],
      "source": [
        "SHUFFLE_BUFFER_SIZE = 128\n",
        "PREFETCH_BUFFER_SIZE = tf.data.AUTOTUNE\n",
        "\n",
        "train_dataset_final = (train_dataset\n",
        "                       .cache()\n",
        "                       .shuffle(SHUFFLE_BUFFER_SIZE)\n",
        "                       .prefetch(PREFETCH_BUFFER_SIZE)\n",
        "                       )\n",
        "\n",
        "validation_dataset_final = (validation_dataset\n",
        "                            .cache()\n",
        "                            .prefetch(PREFETCH_BUFFER_SIZE)\n",
        "                            )\n"
      ]
    },
    {
      "cell_type": "code",
      "execution_count": null,
      "metadata": {
        "id": "gAnv8xS2xjiS"
      },
      "outputs": [],
      "source": [
        "# Define the model\n",
        "def create_model(num_classes=9):\n",
        "    model = tf.keras.Sequential([\n",
        "        tf.keras.Input(shape=(200, 200, 3)),\n",
        "        tf.keras.layers.Conv2D(32, (3, 3), activation='relu'),\n",
        "        tf.keras.layers.MaxPooling2D(2, 2),\n",
        "        tf.keras.layers.Conv2D(64, (3, 3), activation='relu'),\n",
        "        tf.keras.layers.MaxPooling2D(2, 2),\n",
        "        tf.keras.layers.Conv2D(128, (3, 3), activation='relu'),\n",
        "        tf.keras.layers.MaxPooling2D(2, 2),\n",
        "        tf.keras.layers.Conv2D(213, (3, 3), activation='relu'),\n",
        "        tf.keras.layers.MaxPooling2D(2, 2),\n",
        "        tf.keras.layers.Conv2D(512, (3, 3), activation='relu'),\n",
        "        tf.keras.layers.MaxPooling2D(2, 2),\n",
        "        tf.keras.layers.Flatten(),\n",
        "       # tf.keras.layers.Dense(1024, activation='relu'),\n",
        "        tf.keras.layers.Dense(510, activation='relu'),\n",
        "        tf.keras.layers.Dense(125, activation='relu'),\n",
        "\n",
        "        tf.keras.layers.Dropout(0.6),\n",
        "        tf.keras.layers.Dense(num_classes, activation='softmax')\n",
        "    ])\n",
        "\n",
        "    model.compile(\n",
        "        loss='categorical_crossentropy',\n",
        "        optimizer=tf.keras.optimizers.RMSprop(learning_rate=1e-4),\n",
        "        metrics=['accuracy']\n",
        "    )\n",
        "\n",
        "    return model\n",
        "\n",
        "\n"
      ]
    },
    {
      "cell_type": "code",
      "execution_count": null,
      "metadata": {
        "id": "NE6Uk4ZC_0Vj"
      },
      "outputs": [],
      "source": [
        "model = create_model()"
      ]
    },
    {
      "cell_type": "code",
      "execution_count": null,
      "metadata": {
        "colab": {
          "base_uri": "https://localhost:8080/",
          "height": 638
        },
        "id": "0dFidERNzACX",
        "outputId": "4b6a8dee-163a-4507-a050-ec9e74806894"
      },
      "outputs": [
        {
          "data": {
            "text/html": [
              "<pre style=\"white-space:pre;overflow-x:auto;line-height:normal;font-family:Menlo,'DejaVu Sans Mono',consolas,'Courier New',monospace\"><span style=\"font-weight: bold\">Model: \"sequential\"</span>\n",
              "</pre>\n"
            ],
            "text/plain": [
              "\u001b[1mModel: \"sequential\"\u001b[0m\n"
            ]
          },
          "metadata": {},
          "output_type": "display_data"
        },
        {
          "data": {
            "text/html": [
              "<pre style=\"white-space:pre;overflow-x:auto;line-height:normal;font-family:Menlo,'DejaVu Sans Mono',consolas,'Courier New',monospace\">┏━━━━━━━━━━━━━━━━━━━━━━━━━━━━━━━━━━━━━━┳━━━━━━━━━━━━━━━━━━━━━━━━━━━━━┳━━━━━━━━━━━━━━━━━┓\n",
              "┃<span style=\"font-weight: bold\"> Layer (type)                         </span>┃<span style=\"font-weight: bold\"> Output Shape                </span>┃<span style=\"font-weight: bold\">         Param # </span>┃\n",
              "┡━━━━━━━━━━━━━━━━━━━━━━━━━━━━━━━━━━━━━━╇━━━━━━━━━━━━━━━━━━━━━━━━━━━━━╇━━━━━━━━━━━━━━━━━┩\n",
              "│ conv2d (<span style=\"color: #0087ff; text-decoration-color: #0087ff\">Conv2D</span>)                      │ (<span style=\"color: #00d7ff; text-decoration-color: #00d7ff\">None</span>, <span style=\"color: #00af00; text-decoration-color: #00af00\">198</span>, <span style=\"color: #00af00; text-decoration-color: #00af00\">198</span>, <span style=\"color: #00af00; text-decoration-color: #00af00\">32</span>)        │             <span style=\"color: #00af00; text-decoration-color: #00af00\">896</span> │\n",
              "├──────────────────────────────────────┼─────────────────────────────┼─────────────────┤\n",
              "│ max_pooling2d (<span style=\"color: #0087ff; text-decoration-color: #0087ff\">MaxPooling2D</span>)         │ (<span style=\"color: #00d7ff; text-decoration-color: #00d7ff\">None</span>, <span style=\"color: #00af00; text-decoration-color: #00af00\">99</span>, <span style=\"color: #00af00; text-decoration-color: #00af00\">99</span>, <span style=\"color: #00af00; text-decoration-color: #00af00\">32</span>)          │               <span style=\"color: #00af00; text-decoration-color: #00af00\">0</span> │\n",
              "├──────────────────────────────────────┼─────────────────────────────┼─────────────────┤\n",
              "│ conv2d_1 (<span style=\"color: #0087ff; text-decoration-color: #0087ff\">Conv2D</span>)                    │ (<span style=\"color: #00d7ff; text-decoration-color: #00d7ff\">None</span>, <span style=\"color: #00af00; text-decoration-color: #00af00\">97</span>, <span style=\"color: #00af00; text-decoration-color: #00af00\">97</span>, <span style=\"color: #00af00; text-decoration-color: #00af00\">64</span>)          │          <span style=\"color: #00af00; text-decoration-color: #00af00\">18,496</span> │\n",
              "├──────────────────────────────────────┼─────────────────────────────┼─────────────────┤\n",
              "│ max_pooling2d_1 (<span style=\"color: #0087ff; text-decoration-color: #0087ff\">MaxPooling2D</span>)       │ (<span style=\"color: #00d7ff; text-decoration-color: #00d7ff\">None</span>, <span style=\"color: #00af00; text-decoration-color: #00af00\">48</span>, <span style=\"color: #00af00; text-decoration-color: #00af00\">48</span>, <span style=\"color: #00af00; text-decoration-color: #00af00\">64</span>)          │               <span style=\"color: #00af00; text-decoration-color: #00af00\">0</span> │\n",
              "├──────────────────────────────────────┼─────────────────────────────┼─────────────────┤\n",
              "│ conv2d_2 (<span style=\"color: #0087ff; text-decoration-color: #0087ff\">Conv2D</span>)                    │ (<span style=\"color: #00d7ff; text-decoration-color: #00d7ff\">None</span>, <span style=\"color: #00af00; text-decoration-color: #00af00\">46</span>, <span style=\"color: #00af00; text-decoration-color: #00af00\">46</span>, <span style=\"color: #00af00; text-decoration-color: #00af00\">128</span>)         │          <span style=\"color: #00af00; text-decoration-color: #00af00\">73,856</span> │\n",
              "├──────────────────────────────────────┼─────────────────────────────┼─────────────────┤\n",
              "│ max_pooling2d_2 (<span style=\"color: #0087ff; text-decoration-color: #0087ff\">MaxPooling2D</span>)       │ (<span style=\"color: #00d7ff; text-decoration-color: #00d7ff\">None</span>, <span style=\"color: #00af00; text-decoration-color: #00af00\">23</span>, <span style=\"color: #00af00; text-decoration-color: #00af00\">23</span>, <span style=\"color: #00af00; text-decoration-color: #00af00\">128</span>)         │               <span style=\"color: #00af00; text-decoration-color: #00af00\">0</span> │\n",
              "├──────────────────────────────────────┼─────────────────────────────┼─────────────────┤\n",
              "│ conv2d_3 (<span style=\"color: #0087ff; text-decoration-color: #0087ff\">Conv2D</span>)                    │ (<span style=\"color: #00d7ff; text-decoration-color: #00d7ff\">None</span>, <span style=\"color: #00af00; text-decoration-color: #00af00\">21</span>, <span style=\"color: #00af00; text-decoration-color: #00af00\">21</span>, <span style=\"color: #00af00; text-decoration-color: #00af00\">213</span>)         │         <span style=\"color: #00af00; text-decoration-color: #00af00\">245,589</span> │\n",
              "├──────────────────────────────────────┼─────────────────────────────┼─────────────────┤\n",
              "│ max_pooling2d_3 (<span style=\"color: #0087ff; text-decoration-color: #0087ff\">MaxPooling2D</span>)       │ (<span style=\"color: #00d7ff; text-decoration-color: #00d7ff\">None</span>, <span style=\"color: #00af00; text-decoration-color: #00af00\">10</span>, <span style=\"color: #00af00; text-decoration-color: #00af00\">10</span>, <span style=\"color: #00af00; text-decoration-color: #00af00\">213</span>)         │               <span style=\"color: #00af00; text-decoration-color: #00af00\">0</span> │\n",
              "├──────────────────────────────────────┼─────────────────────────────┼─────────────────┤\n",
              "│ conv2d_4 (<span style=\"color: #0087ff; text-decoration-color: #0087ff\">Conv2D</span>)                    │ (<span style=\"color: #00d7ff; text-decoration-color: #00d7ff\">None</span>, <span style=\"color: #00af00; text-decoration-color: #00af00\">8</span>, <span style=\"color: #00af00; text-decoration-color: #00af00\">8</span>, <span style=\"color: #00af00; text-decoration-color: #00af00\">512</span>)           │         <span style=\"color: #00af00; text-decoration-color: #00af00\">982,016</span> │\n",
              "├──────────────────────────────────────┼─────────────────────────────┼─────────────────┤\n",
              "│ max_pooling2d_4 (<span style=\"color: #0087ff; text-decoration-color: #0087ff\">MaxPooling2D</span>)       │ (<span style=\"color: #00d7ff; text-decoration-color: #00d7ff\">None</span>, <span style=\"color: #00af00; text-decoration-color: #00af00\">4</span>, <span style=\"color: #00af00; text-decoration-color: #00af00\">4</span>, <span style=\"color: #00af00; text-decoration-color: #00af00\">512</span>)           │               <span style=\"color: #00af00; text-decoration-color: #00af00\">0</span> │\n",
              "├──────────────────────────────────────┼─────────────────────────────┼─────────────────┤\n",
              "│ flatten (<span style=\"color: #0087ff; text-decoration-color: #0087ff\">Flatten</span>)                    │ (<span style=\"color: #00d7ff; text-decoration-color: #00d7ff\">None</span>, <span style=\"color: #00af00; text-decoration-color: #00af00\">8192</span>)                │               <span style=\"color: #00af00; text-decoration-color: #00af00\">0</span> │\n",
              "├──────────────────────────────────────┼─────────────────────────────┼─────────────────┤\n",
              "│ dense (<span style=\"color: #0087ff; text-decoration-color: #0087ff\">Dense</span>)                        │ (<span style=\"color: #00d7ff; text-decoration-color: #00d7ff\">None</span>, <span style=\"color: #00af00; text-decoration-color: #00af00\">510</span>)                 │       <span style=\"color: #00af00; text-decoration-color: #00af00\">4,178,430</span> │\n",
              "├──────────────────────────────────────┼─────────────────────────────┼─────────────────┤\n",
              "│ dense_1 (<span style=\"color: #0087ff; text-decoration-color: #0087ff\">Dense</span>)                      │ (<span style=\"color: #00d7ff; text-decoration-color: #00d7ff\">None</span>, <span style=\"color: #00af00; text-decoration-color: #00af00\">125</span>)                 │          <span style=\"color: #00af00; text-decoration-color: #00af00\">63,875</span> │\n",
              "├──────────────────────────────────────┼─────────────────────────────┼─────────────────┤\n",
              "│ dropout (<span style=\"color: #0087ff; text-decoration-color: #0087ff\">Dropout</span>)                    │ (<span style=\"color: #00d7ff; text-decoration-color: #00d7ff\">None</span>, <span style=\"color: #00af00; text-decoration-color: #00af00\">125</span>)                 │               <span style=\"color: #00af00; text-decoration-color: #00af00\">0</span> │\n",
              "├──────────────────────────────────────┼─────────────────────────────┼─────────────────┤\n",
              "│ dense_2 (<span style=\"color: #0087ff; text-decoration-color: #0087ff\">Dense</span>)                      │ (<span style=\"color: #00d7ff; text-decoration-color: #00d7ff\">None</span>, <span style=\"color: #00af00; text-decoration-color: #00af00\">9</span>)                   │           <span style=\"color: #00af00; text-decoration-color: #00af00\">1,134</span> │\n",
              "└──────────────────────────────────────┴─────────────────────────────┴─────────────────┘\n",
              "</pre>\n"
            ],
            "text/plain": [
              "┏━━━━━━━━━━━━━━━━━━━━━━━━━━━━━━━━━━━━━━┳━━━━━━━━━━━━━━━━━━━━━━━━━━━━━┳━━━━━━━━━━━━━━━━━┓\n",
              "┃\u001b[1m \u001b[0m\u001b[1mLayer (type)                        \u001b[0m\u001b[1m \u001b[0m┃\u001b[1m \u001b[0m\u001b[1mOutput Shape               \u001b[0m\u001b[1m \u001b[0m┃\u001b[1m \u001b[0m\u001b[1m        Param #\u001b[0m\u001b[1m \u001b[0m┃\n",
              "┡━━━━━━━━━━━━━━━━━━━━━━━━━━━━━━━━━━━━━━╇━━━━━━━━━━━━━━━━━━━━━━━━━━━━━╇━━━━━━━━━━━━━━━━━┩\n",
              "│ conv2d (\u001b[38;5;33mConv2D\u001b[0m)                      │ (\u001b[38;5;45mNone\u001b[0m, \u001b[38;5;34m198\u001b[0m, \u001b[38;5;34m198\u001b[0m, \u001b[38;5;34m32\u001b[0m)        │             \u001b[38;5;34m896\u001b[0m │\n",
              "├──────────────────────────────────────┼─────────────────────────────┼─────────────────┤\n",
              "│ max_pooling2d (\u001b[38;5;33mMaxPooling2D\u001b[0m)         │ (\u001b[38;5;45mNone\u001b[0m, \u001b[38;5;34m99\u001b[0m, \u001b[38;5;34m99\u001b[0m, \u001b[38;5;34m32\u001b[0m)          │               \u001b[38;5;34m0\u001b[0m │\n",
              "├──────────────────────────────────────┼─────────────────────────────┼─────────────────┤\n",
              "│ conv2d_1 (\u001b[38;5;33mConv2D\u001b[0m)                    │ (\u001b[38;5;45mNone\u001b[0m, \u001b[38;5;34m97\u001b[0m, \u001b[38;5;34m97\u001b[0m, \u001b[38;5;34m64\u001b[0m)          │          \u001b[38;5;34m18,496\u001b[0m │\n",
              "├──────────────────────────────────────┼─────────────────────────────┼─────────────────┤\n",
              "│ max_pooling2d_1 (\u001b[38;5;33mMaxPooling2D\u001b[0m)       │ (\u001b[38;5;45mNone\u001b[0m, \u001b[38;5;34m48\u001b[0m, \u001b[38;5;34m48\u001b[0m, \u001b[38;5;34m64\u001b[0m)          │               \u001b[38;5;34m0\u001b[0m │\n",
              "├──────────────────────────────────────┼─────────────────────────────┼─────────────────┤\n",
              "│ conv2d_2 (\u001b[38;5;33mConv2D\u001b[0m)                    │ (\u001b[38;5;45mNone\u001b[0m, \u001b[38;5;34m46\u001b[0m, \u001b[38;5;34m46\u001b[0m, \u001b[38;5;34m128\u001b[0m)         │          \u001b[38;5;34m73,856\u001b[0m │\n",
              "├──────────────────────────────────────┼─────────────────────────────┼─────────────────┤\n",
              "│ max_pooling2d_2 (\u001b[38;5;33mMaxPooling2D\u001b[0m)       │ (\u001b[38;5;45mNone\u001b[0m, \u001b[38;5;34m23\u001b[0m, \u001b[38;5;34m23\u001b[0m, \u001b[38;5;34m128\u001b[0m)         │               \u001b[38;5;34m0\u001b[0m │\n",
              "├──────────────────────────────────────┼─────────────────────────────┼─────────────────┤\n",
              "│ conv2d_3 (\u001b[38;5;33mConv2D\u001b[0m)                    │ (\u001b[38;5;45mNone\u001b[0m, \u001b[38;5;34m21\u001b[0m, \u001b[38;5;34m21\u001b[0m, \u001b[38;5;34m213\u001b[0m)         │         \u001b[38;5;34m245,589\u001b[0m │\n",
              "├──────────────────────────────────────┼─────────────────────────────┼─────────────────┤\n",
              "│ max_pooling2d_3 (\u001b[38;5;33mMaxPooling2D\u001b[0m)       │ (\u001b[38;5;45mNone\u001b[0m, \u001b[38;5;34m10\u001b[0m, \u001b[38;5;34m10\u001b[0m, \u001b[38;5;34m213\u001b[0m)         │               \u001b[38;5;34m0\u001b[0m │\n",
              "├──────────────────────────────────────┼─────────────────────────────┼─────────────────┤\n",
              "│ conv2d_4 (\u001b[38;5;33mConv2D\u001b[0m)                    │ (\u001b[38;5;45mNone\u001b[0m, \u001b[38;5;34m8\u001b[0m, \u001b[38;5;34m8\u001b[0m, \u001b[38;5;34m512\u001b[0m)           │         \u001b[38;5;34m982,016\u001b[0m │\n",
              "├──────────────────────────────────────┼─────────────────────────────┼─────────────────┤\n",
              "│ max_pooling2d_4 (\u001b[38;5;33mMaxPooling2D\u001b[0m)       │ (\u001b[38;5;45mNone\u001b[0m, \u001b[38;5;34m4\u001b[0m, \u001b[38;5;34m4\u001b[0m, \u001b[38;5;34m512\u001b[0m)           │               \u001b[38;5;34m0\u001b[0m │\n",
              "├──────────────────────────────────────┼─────────────────────────────┼─────────────────┤\n",
              "│ flatten (\u001b[38;5;33mFlatten\u001b[0m)                    │ (\u001b[38;5;45mNone\u001b[0m, \u001b[38;5;34m8192\u001b[0m)                │               \u001b[38;5;34m0\u001b[0m │\n",
              "├──────────────────────────────────────┼─────────────────────────────┼─────────────────┤\n",
              "│ dense (\u001b[38;5;33mDense\u001b[0m)                        │ (\u001b[38;5;45mNone\u001b[0m, \u001b[38;5;34m510\u001b[0m)                 │       \u001b[38;5;34m4,178,430\u001b[0m │\n",
              "├──────────────────────────────────────┼─────────────────────────────┼─────────────────┤\n",
              "│ dense_1 (\u001b[38;5;33mDense\u001b[0m)                      │ (\u001b[38;5;45mNone\u001b[0m, \u001b[38;5;34m125\u001b[0m)                 │          \u001b[38;5;34m63,875\u001b[0m │\n",
              "├──────────────────────────────────────┼─────────────────────────────┼─────────────────┤\n",
              "│ dropout (\u001b[38;5;33mDropout\u001b[0m)                    │ (\u001b[38;5;45mNone\u001b[0m, \u001b[38;5;34m125\u001b[0m)                 │               \u001b[38;5;34m0\u001b[0m │\n",
              "├──────────────────────────────────────┼─────────────────────────────┼─────────────────┤\n",
              "│ dense_2 (\u001b[38;5;33mDense\u001b[0m)                      │ (\u001b[38;5;45mNone\u001b[0m, \u001b[38;5;34m9\u001b[0m)                   │           \u001b[38;5;34m1,134\u001b[0m │\n",
              "└──────────────────────────────────────┴─────────────────────────────┴─────────────────┘\n"
            ]
          },
          "metadata": {},
          "output_type": "display_data"
        },
        {
          "data": {
            "text/html": [
              "<pre style=\"white-space:pre;overflow-x:auto;line-height:normal;font-family:Menlo,'DejaVu Sans Mono',consolas,'Courier New',monospace\"><span style=\"font-weight: bold\"> Total params: </span><span style=\"color: #00af00; text-decoration-color: #00af00\">5,564,292</span> (21.23 MB)\n",
              "</pre>\n"
            ],
            "text/plain": [
              "\u001b[1m Total params: \u001b[0m\u001b[38;5;34m5,564,292\u001b[0m (21.23 MB)\n"
            ]
          },
          "metadata": {},
          "output_type": "display_data"
        },
        {
          "data": {
            "text/html": [
              "<pre style=\"white-space:pre;overflow-x:auto;line-height:normal;font-family:Menlo,'DejaVu Sans Mono',consolas,'Courier New',monospace\"><span style=\"font-weight: bold\"> Trainable params: </span><span style=\"color: #00af00; text-decoration-color: #00af00\">5,564,292</span> (21.23 MB)\n",
              "</pre>\n"
            ],
            "text/plain": [
              "\u001b[1m Trainable params: \u001b[0m\u001b[38;5;34m5,564,292\u001b[0m (21.23 MB)\n"
            ]
          },
          "metadata": {},
          "output_type": "display_data"
        },
        {
          "data": {
            "text/html": [
              "<pre style=\"white-space:pre;overflow-x:auto;line-height:normal;font-family:Menlo,'DejaVu Sans Mono',consolas,'Courier New',monospace\"><span style=\"font-weight: bold\"> Non-trainable params: </span><span style=\"color: #00af00; text-decoration-color: #00af00\">0</span> (0.00 B)\n",
              "</pre>\n"
            ],
            "text/plain": [
              "\u001b[1m Non-trainable params: \u001b[0m\u001b[38;5;34m0\u001b[0m (0.00 B)\n"
            ]
          },
          "metadata": {},
          "output_type": "display_data"
        }
      ],
      "source": [
        "model.summary()"
      ]
    },
    {
      "cell_type": "code",
      "execution_count": null,
      "metadata": {
        "id": "wXWNMge4y0Lb"
      },
      "outputs": [],
      "source": [
        "class EarlyStoppingCallback(tf.keras.callbacks.Callback):\n",
        "\n",
        "    # Define the correct function signature for on_epoch_end method\n",
        "    def on_epoch_end(self, epoch, logs={}):\n",
        "\n",
        "        if logs.get('accuracy', 0) >= 0.8 and logs.get('val_accuracy', 0) >= 0.8:\n",
        "          self.model.stop_training = True\n",
        "\n",
        "          print(\"\\nReached 95% train accuracy and 80% validation accuracy, so cancelling training!\")"
      ]
    },
    {
      "cell_type": "code",
      "execution_count": null,
      "metadata": {
        "id": "T3QI8JO_aVsK"
      },
      "outputs": [],
      "source": [
        "def load_image_from_npz(npz_path, index):\n",
        "    \"\"\"Loads an image from the specified .npz file.\"\"\"\n",
        "\n",
        "    data = np.load(npz_path)\n",
        "\n",
        "\n",
        "    images = data['train_images']\n",
        "    return images[index]"
      ]
    },
    {
      "cell_type": "code",
      "execution_count": null,
      "metadata": {
        "id": "p8eLRz_NVcIk"
      },
      "outputs": [],
      "source": [
        "\n",
        "def visualize_intermediate_layers(model, img_array, rescale_layer=None):\n",
        "    \"\"\"\n",
        "    Visualizes the intermediate feature maps of a Keras model for a given input image array.\n",
        "\n",
        "    Parameters:\n",
        "    - model: Keras model to visualize.\n",
        "    - img_array: Numpy array of the input image with shape (height, width, channels).\n",
        "    - rescale_layer: Optional Keras layer to apply for rescaling the image.\n",
        "    \"\"\"\n",
        "\n",
        "    # Define a new Model that will output intermediate representations\n",
        "    successive_outputs = [layer.output for layer in model.layers[1:]]\n",
        "    visualization_model = tf.keras.models.Model(inputs=model.inputs, outputs=successive_outputs)\n",
        "\n",
        "    # Reshape the image to add the batch dimension\n",
        "    x = img_array.reshape((1,) + img_array.shape)  # Shape should be (1, height, width, channels)\n",
        "\n",
        "    # Optionally scale the image\n",
        "    if rescale_layer is not None:\n",
        "        x = rescale_layer(x)\n",
        "\n",
        "    # Obtain intermediate representations for the input image\n",
        "    successive_feature_maps = visualization_model.predict(x, verbose=False)\n",
        "\n",
        "    # Get layer names for visualization\n",
        "    layer_names = [layer.name for layer in model.layers[1:]]\n",
        "\n",
        "    # Display the feature maps\n",
        "    for layer_name, feature_map in zip(layer_names, successive_feature_maps):\n",
        "        if len(feature_map.shape) == 4:\n",
        "            n_features = feature_map.shape[-1]  # Number of features in the feature map\n",
        "            size = feature_map.shape[1]  # Feature map size\n",
        "\n",
        "            # Create a grid to tile the feature maps\n",
        "            display_grid = np.zeros((size, size * n_features))\n",
        "            for i in range(n_features):\n",
        "                x = feature_map[0, :, :, i]\n",
        "                x -= x.mean()\n",
        "                x /= x.std() if x.std() > 0 else 1  # Avoid division by zero\n",
        "                x *= 64\n",
        "                x += 128\n",
        "                x = np.clip(x, 0, 255).astype('uint8')\n",
        "\n",
        "                # Tile each filter into the grid\n",
        "                display_grid[:, i * size:(i + 1) * size] = x\n",
        "\n",
        "            # Adjust the figure size for better visibility\n",
        "            scale = 40. / n_features  # Increase scale to make images larger\n",
        "            plt.figure(figsize=(scale * n_features, scale * 1.5))  # Adjust height for better visibility\n",
        "            plt.title(layer_name)\n",
        "            plt.grid(False)\n",
        "            plt.imshow(display_grid, aspect='auto', cmap='viridis')\n",
        "            plt.axis('off')  # Hide axis\n",
        "            plt.show()\n",
        "\n",
        "\n"
      ]
    },
    {
      "cell_type": "code",
      "execution_count": 1,
      "metadata": {
        "colab": {
          "base_uri": "https://localhost:8080/",
          "height": 211
        },
        "id": "69tgaCfcagzt",
        "outputId": "77caf058-03ee-4cbe-8c57-4528f07a911c"
      },
      "outputs": [
        {
          "output_type": "error",
          "ename": "NameError",
          "evalue": "name 'load_image_from_npz' is not defined",
          "traceback": [
            "\u001b[0;31m---------------------------------------------------------------------------\u001b[0m",
            "\u001b[0;31mNameError\u001b[0m                                 Traceback (most recent call last)",
            "\u001b[0;32m<ipython-input-1-8438de61b5b2>\u001b[0m in \u001b[0;36m<cell line: 6>\u001b[0;34m()\u001b[0m\n\u001b[1;32m      4\u001b[0m \u001b[0;34m\u001b[0m\u001b[0m\n\u001b[1;32m      5\u001b[0m \u001b[0;31m# Load the image from the .npz file\u001b[0m\u001b[0;34m\u001b[0m\u001b[0;34m\u001b[0m\u001b[0m\n\u001b[0;32m----> 6\u001b[0;31m \u001b[0mimg\u001b[0m \u001b[0;34m=\u001b[0m \u001b[0mload_image_from_npz\u001b[0m\u001b[0;34m(\u001b[0m\u001b[0mnpz_path\u001b[0m\u001b[0;34m,\u001b[0m \u001b[0mimage_index\u001b[0m\u001b[0;34m)\u001b[0m\u001b[0;34m\u001b[0m\u001b[0;34m\u001b[0m\u001b[0m\n\u001b[0m\u001b[1;32m      7\u001b[0m \u001b[0;34m\u001b[0m\u001b[0m\n\u001b[1;32m      8\u001b[0m \u001b[0;31m# Ensure img is a 3D array (height, width, channels)\u001b[0m\u001b[0;34m\u001b[0m\u001b[0;34m\u001b[0m\u001b[0m\n",
            "\u001b[0;31mNameError\u001b[0m: name 'load_image_from_npz' is not defined"
          ]
        }
      ],
      "source": [
        "# Example Usage\n",
        "npz_path = '/content/drive/MyDrive/data_augmented.npz'\n",
        "image_index = 10  # Specify the index of the image you want to visualize\n",
        "\n",
        "# Load the image from the .npz file\n",
        "img = load_image_from_npz(npz_path, image_index)\n",
        "\n",
        "# Ensure img is a 3D array (height, width, channels)\n",
        "if img.ndim == 3:\n",
        "    # Optionally define a rescale layer (if your model expects scaled inputs)\n",
        "    rescale_layer = tf.keras.layers.Rescaling(1./255)  # Normalizing to [0, 1]\n",
        "\n",
        "    # Call the visualization function\n",
        "    visualize_intermediate_layers(model, img, rescale_layer=rescale_layer)\n",
        "else:\n",
        "    print(\"Error: Loaded image does not have the correct shape.\")\n"
      ]
    },
    {
      "cell_type": "code",
      "execution_count": null,
      "metadata": {
        "colab": {
          "background_save": true,
          "base_uri": "https://localhost:8080/"
        },
        "id": "BrmMP9_Pet5C",
        "outputId": "b905ba5d-1704-4943-be94-d49590699fc2"
      },
      "outputs": [
        {
          "name": "stdout",
          "output_type": "stream",
          "text": [
            "Epoch 1/129\n",
            "\u001b[1m5/5\u001b[0m \u001b[32m━━━━━━━━━━━━━━━━━━━━\u001b[0m\u001b[37m\u001b[0m \u001b[1m65s\u001b[0m 12s/step - accuracy: 0.1273 - loss: 2.1952 - val_accuracy: 0.0833 - val_loss: 2.1947\n",
            "Epoch 2/129\n",
            "\u001b[1m5/5\u001b[0m \u001b[32m━━━━━━━━━━━━━━━━━━━━\u001b[0m\u001b[37m\u001b[0m \u001b[1m87s\u001b[0m 13s/step - accuracy: 0.1787 - loss: 2.1761 - val_accuracy: 0.0833 - val_loss: 2.1703\n",
            "Epoch 3/129\n",
            "\u001b[1m5/5\u001b[0m \u001b[32m━━━━━━━━━━━━━━━━━━━━\u001b[0m\u001b[37m\u001b[0m \u001b[1m63s\u001b[0m 14s/step - accuracy: 0.1900 - loss: 2.1489 - val_accuracy: 0.2361 - val_loss: 2.1114\n",
            "Epoch 4/129\n",
            "\u001b[1m5/5\u001b[0m \u001b[32m━━━━━━━━━━━━━━━━━━━━\u001b[0m\u001b[37m\u001b[0m \u001b[1m84s\u001b[0m 13s/step - accuracy: 0.2127 - loss: 2.0927 - val_accuracy: 0.3194 - val_loss: 1.9984\n",
            "Epoch 5/129\n",
            "\u001b[1m5/5\u001b[0m \u001b[32m━━━━━━━━━━━━━━━━━━━━\u001b[0m\u001b[37m\u001b[0m \u001b[1m80s\u001b[0m 14s/step - accuracy: 0.1988 - loss: 2.0042 - val_accuracy: 0.2639 - val_loss: 1.9228\n",
            "Epoch 6/129\n",
            "\u001b[1m5/5\u001b[0m \u001b[32m━━━━━━━━━━━━━━━━━━━━\u001b[0m\u001b[37m\u001b[0m \u001b[1m64s\u001b[0m 14s/step - accuracy: 0.3078 - loss: 1.8776 - val_accuracy: 0.2917 - val_loss: 1.7981\n",
            "Epoch 7/129\n",
            "\u001b[1m5/5\u001b[0m \u001b[32m━━━━━━━━━━━━━━━━━━━━\u001b[0m\u001b[37m\u001b[0m \u001b[1m81s\u001b[0m 12s/step - accuracy: 0.2951 - loss: 1.8744 - val_accuracy: 0.3611 - val_loss: 1.7711\n",
            "Epoch 8/129\n",
            "\u001b[1m5/5\u001b[0m \u001b[32m━━━━━━━━━━━━━━━━━━━━\u001b[0m\u001b[37m\u001b[0m \u001b[1m63s\u001b[0m 14s/step - accuracy: 0.3399 - loss: 1.7508 - val_accuracy: 0.4444 - val_loss: 1.6947\n",
            "Epoch 9/129\n",
            "\u001b[1m5/5\u001b[0m \u001b[32m━━━━━━━━━━━━━━━━━━━━\u001b[0m\u001b[37m\u001b[0m \u001b[1m82s\u001b[0m 12s/step - accuracy: 0.3169 - loss: 1.7510 - val_accuracy: 0.3056 - val_loss: 1.5974\n",
            "Epoch 10/129\n",
            "\u001b[1m5/5\u001b[0m \u001b[32m━━━━━━━━━━━━━━━━━━━━\u001b[0m\u001b[37m\u001b[0m \u001b[1m87s\u001b[0m 13s/step - accuracy: 0.3547 - loss: 1.7062 - val_accuracy: 0.4306 - val_loss: 1.6286\n",
            "Epoch 11/129\n",
            "\u001b[1m5/5\u001b[0m \u001b[32m━━━━━━━━━━━━━━━━━━━━\u001b[0m\u001b[37m\u001b[0m \u001b[1m77s\u001b[0m 12s/step - accuracy: 0.3448 - loss: 1.7013 - val_accuracy: 0.3333 - val_loss: 1.5588\n",
            "Epoch 12/129\n",
            "\u001b[1m5/5\u001b[0m \u001b[32m━━━━━━━━━━━━━━━━━━━━\u001b[0m\u001b[37m\u001b[0m \u001b[1m81s\u001b[0m 12s/step - accuracy: 0.3822 - loss: 1.6389 - val_accuracy: 0.4167 - val_loss: 1.6278\n",
            "Epoch 13/129\n",
            "\u001b[1m5/5\u001b[0m \u001b[32m━━━━━━━━━━━━━━━━━━━━\u001b[0m\u001b[37m\u001b[0m \u001b[1m82s\u001b[0m 12s/step - accuracy: 0.3933 - loss: 1.6214 - val_accuracy: 0.4444 - val_loss: 1.5773\n",
            "Epoch 14/129\n",
            "\u001b[1m5/5\u001b[0m \u001b[32m━━━━━━━━━━━━━━━━━━━━\u001b[0m\u001b[37m\u001b[0m \u001b[1m82s\u001b[0m 12s/step - accuracy: 0.3800 - loss: 1.6238 - val_accuracy: 0.4028 - val_loss: 1.5308\n",
            "Epoch 15/129\n",
            "\u001b[1m5/5\u001b[0m \u001b[32m━━━━━━━━━━━━━━━━━━━━\u001b[0m\u001b[37m\u001b[0m \u001b[1m83s\u001b[0m 12s/step - accuracy: 0.4116 - loss: 1.5830 - val_accuracy: 0.4722 - val_loss: 1.4693\n",
            "Epoch 16/129\n",
            "\u001b[1m5/5\u001b[0m \u001b[32m━━━━━━━━━━━━━━━━━━━━\u001b[0m\u001b[37m\u001b[0m \u001b[1m82s\u001b[0m 12s/step - accuracy: 0.4361 - loss: 1.5377 - val_accuracy: 0.4444 - val_loss: 1.5363\n",
            "Epoch 17/129\n",
            "\u001b[1m5/5\u001b[0m \u001b[32m━━━━━━━━━━━━━━━━━━━━\u001b[0m\u001b[37m\u001b[0m \u001b[1m63s\u001b[0m 12s/step - accuracy: 0.3817 - loss: 1.5844 - val_accuracy: 0.3889 - val_loss: 1.4543\n",
            "Epoch 18/129\n",
            "\u001b[1m5/5\u001b[0m \u001b[32m━━━━━━━━━━━━━━━━━━━━\u001b[0m\u001b[37m\u001b[0m \u001b[1m71s\u001b[0m 14s/step - accuracy: 0.4031 - loss: 1.5489 - val_accuracy: 0.4444 - val_loss: 1.5683\n",
            "Epoch 19/129\n",
            "\u001b[1m5/5\u001b[0m \u001b[32m━━━━━━━━━━━━━━━━━━━━\u001b[0m\u001b[37m\u001b[0m \u001b[1m63s\u001b[0m 14s/step - accuracy: 0.4163 - loss: 1.5788 - val_accuracy: 0.4583 - val_loss: 1.4206\n",
            "Epoch 20/129\n",
            "\u001b[1m5/5\u001b[0m \u001b[32m━━━━━━━━━━━━━━━━━━━━\u001b[0m\u001b[37m\u001b[0m \u001b[1m62s\u001b[0m 12s/step - accuracy: 0.4410 - loss: 1.4873 - val_accuracy: 0.4861 - val_loss: 1.3497\n",
            "Epoch 21/129\n",
            "\u001b[1m5/5\u001b[0m \u001b[32m━━━━━━━━━━━━━━━━━━━━\u001b[0m\u001b[37m\u001b[0m \u001b[1m83s\u001b[0m 13s/step - accuracy: 0.4311 - loss: 1.5000 - val_accuracy: 0.5000 - val_loss: 1.4708\n",
            "Epoch 22/129\n",
            "\u001b[1m5/5\u001b[0m \u001b[32m━━━━━━━━━━━━━━━━━━━━\u001b[0m\u001b[37m\u001b[0m \u001b[1m63s\u001b[0m 14s/step - accuracy: 0.4268 - loss: 1.4811 - val_accuracy: 0.5417 - val_loss: 1.3304\n",
            "Epoch 23/129\n",
            "\u001b[1m5/5\u001b[0m \u001b[32m━━━━━━━━━━━━━━━━━━━━\u001b[0m\u001b[37m\u001b[0m \u001b[1m83s\u001b[0m 13s/step - accuracy: 0.4300 - loss: 1.4571 - val_accuracy: 0.4722 - val_loss: 1.3884\n",
            "Epoch 24/129\n",
            "\u001b[1m5/5\u001b[0m \u001b[32m━━━━━━━━━━━━━━━━━━━━\u001b[0m\u001b[37m\u001b[0m \u001b[1m81s\u001b[0m 14s/step - accuracy: 0.4768 - loss: 1.4552 - val_accuracy: 0.5278 - val_loss: 1.4040\n",
            "Epoch 25/129\n",
            "\u001b[1m5/5\u001b[0m \u001b[32m━━━━━━━━━━━━━━━━━━━━\u001b[0m\u001b[37m\u001b[0m \u001b[1m63s\u001b[0m 12s/step - accuracy: 0.4258 - loss: 1.4387 - val_accuracy: 0.5278 - val_loss: 1.4059\n",
            "Epoch 26/129\n",
            "\u001b[1m5/5\u001b[0m \u001b[32m━━━━━━━━━━━━━━━━━━━━\u001b[0m\u001b[37m\u001b[0m \u001b[1m82s\u001b[0m 12s/step - accuracy: 0.4886 - loss: 1.3734 - val_accuracy: 0.6250 - val_loss: 1.2853\n",
            "Epoch 27/129\n",
            "\u001b[1m5/5\u001b[0m \u001b[32m━━━━━━━━━━━━━━━━━━━━\u001b[0m\u001b[37m\u001b[0m \u001b[1m85s\u001b[0m 15s/step - accuracy: 0.4803 - loss: 1.4290 - val_accuracy: 0.5139 - val_loss: 1.3952\n",
            "Epoch 28/129\n",
            "\u001b[1m5/5\u001b[0m \u001b[32m━━━━━━━━━━━━━━━━━━━━\u001b[0m\u001b[37m\u001b[0m \u001b[1m79s\u001b[0m 12s/step - accuracy: 0.4893 - loss: 1.4132 - val_accuracy: 0.4306 - val_loss: 1.4521\n",
            "Epoch 29/129\n",
            "\u001b[1m5/5\u001b[0m \u001b[32m━━━━━━━━━━━━━━━━━━━━\u001b[0m\u001b[37m\u001b[0m \u001b[1m82s\u001b[0m 12s/step - accuracy: 0.4640 - loss: 1.4313 - val_accuracy: 0.5000 - val_loss: 1.3320\n",
            "Epoch 30/129\n",
            "\u001b[1m5/5\u001b[0m \u001b[32m━━━━━━━━━━━━━━━━━━━━\u001b[0m\u001b[37m\u001b[0m \u001b[1m83s\u001b[0m 12s/step - accuracy: 0.5004 - loss: 1.4019 - val_accuracy: 0.5417 - val_loss: 1.3130\n",
            "Epoch 31/129\n",
            "\u001b[1m5/5\u001b[0m \u001b[32m━━━━━━━━━━━━━━━━━━━━\u001b[0m\u001b[37m\u001b[0m \u001b[1m81s\u001b[0m 12s/step - accuracy: 0.4987 - loss: 1.3572 - val_accuracy: 0.5694 - val_loss: 1.2813\n",
            "Epoch 32/129\n",
            "\u001b[1m5/5\u001b[0m \u001b[32m━━━━━━━━━━━━━━━━━━━━\u001b[0m\u001b[37m\u001b[0m \u001b[1m82s\u001b[0m 13s/step - accuracy: 0.4663 - loss: 1.4124 - val_accuracy: 0.5417 - val_loss: 1.2515\n",
            "Epoch 33/129\n",
            "\u001b[1m5/5\u001b[0m \u001b[32m━━━━━━━━━━━━━━━━━━━━\u001b[0m\u001b[37m\u001b[0m \u001b[1m62s\u001b[0m 14s/step - accuracy: 0.5234 - loss: 1.3041 - val_accuracy: 0.5000 - val_loss: 1.3891\n",
            "Epoch 34/129\n",
            "\u001b[1m5/5\u001b[0m \u001b[32m━━━━━━━━━━━━━━━━━━━━\u001b[0m\u001b[37m\u001b[0m \u001b[1m83s\u001b[0m 13s/step - accuracy: 0.4787 - loss: 1.3642 - val_accuracy: 0.5278 - val_loss: 1.2833\n",
            "Epoch 35/129\n",
            "\u001b[1m5/5\u001b[0m \u001b[32m━━━━━━━━━━━━━━━━━━━━\u001b[0m\u001b[37m\u001b[0m \u001b[1m80s\u001b[0m 12s/step - accuracy: 0.5395 - loss: 1.3010 - val_accuracy: 0.6250 - val_loss: 1.2205\n",
            "Epoch 36/129\n",
            "\u001b[1m5/5\u001b[0m \u001b[32m━━━━━━━━━━━━━━━━━━━━\u001b[0m\u001b[37m\u001b[0m \u001b[1m82s\u001b[0m 12s/step - accuracy: 0.5136 - loss: 1.3061 - val_accuracy: 0.5556 - val_loss: 1.2898\n",
            "Epoch 37/129\n",
            "\u001b[1m5/5\u001b[0m \u001b[32m━━━━━━━━━━━━━━━━━━━━\u001b[0m\u001b[37m\u001b[0m \u001b[1m62s\u001b[0m 12s/step - accuracy: 0.5197 - loss: 1.2718 - val_accuracy: 0.4583 - val_loss: 1.3502\n",
            "Epoch 38/129\n",
            "\u001b[1m5/5\u001b[0m \u001b[32m━━━━━━━━━━━━━━━━━━━━\u001b[0m\u001b[37m\u001b[0m \u001b[1m63s\u001b[0m 12s/step - accuracy: 0.4906 - loss: 1.4249 - val_accuracy: 0.5556 - val_loss: 1.3190\n",
            "Epoch 39/129\n",
            "\u001b[1m5/5\u001b[0m \u001b[32m━━━━━━━━━━━━━━━━━━━━\u001b[0m\u001b[37m\u001b[0m \u001b[1m82s\u001b[0m 14s/step - accuracy: 0.5517 - loss: 1.2430 - val_accuracy: 0.5833 - val_loss: 1.1892\n",
            "Epoch 40/129\n",
            "\u001b[1m5/5\u001b[0m \u001b[32m━━━━━━━━━━━━━━━━━━━━\u001b[0m\u001b[37m\u001b[0m \u001b[1m82s\u001b[0m 12s/step - accuracy: 0.5310 - loss: 1.2247 - val_accuracy: 0.4861 - val_loss: 1.4253\n",
            "Epoch 41/129\n",
            "\u001b[1m5/5\u001b[0m \u001b[32m━━━━━━━━━━━━━━━━━━━━\u001b[0m\u001b[37m\u001b[0m \u001b[1m62s\u001b[0m 12s/step - accuracy: 0.5353 - loss: 1.2714 - val_accuracy: 0.5694 - val_loss: 1.2521\n",
            "Epoch 42/129\n",
            "\u001b[1m5/5\u001b[0m \u001b[32m━━━━━━━━━━━━━━━━━━━━\u001b[0m\u001b[37m\u001b[0m \u001b[1m72s\u001b[0m 15s/step - accuracy: 0.5346 - loss: 1.2616 - val_accuracy: 0.6111 - val_loss: 1.1728\n",
            "Epoch 43/129\n",
            "\u001b[1m5/5\u001b[0m \u001b[32m━━━━━━━━━━━━━━━━━━━━\u001b[0m\u001b[37m\u001b[0m \u001b[1m75s\u001b[0m 12s/step - accuracy: 0.5260 - loss: 1.2505 - val_accuracy: 0.5417 - val_loss: 1.1858\n",
            "Epoch 44/129\n",
            "\u001b[1m5/5\u001b[0m \u001b[32m━━━━━━━━━━━━━━━━━━━━\u001b[0m\u001b[37m\u001b[0m \u001b[1m62s\u001b[0m 14s/step - accuracy: 0.5905 - loss: 1.1397 - val_accuracy: 0.6111 - val_loss: 1.1716\n",
            "Epoch 45/129\n",
            "\u001b[1m5/5\u001b[0m \u001b[32m━━━━━━━━━━━━━━━━━━━━\u001b[0m\u001b[37m\u001b[0m \u001b[1m62s\u001b[0m 12s/step - accuracy: 0.5788 - loss: 1.1505 - val_accuracy: 0.6250 - val_loss: 1.1423\n",
            "Epoch 46/129\n",
            "\u001b[1m5/5\u001b[0m \u001b[32m━━━━━━━━━━━━━━━━━━━━\u001b[0m\u001b[37m\u001b[0m \u001b[1m62s\u001b[0m 12s/step - accuracy: 0.5700 - loss: 1.1698 - val_accuracy: 0.5833 - val_loss: 1.1907\n",
            "Epoch 47/129\n",
            "\u001b[1m5/5\u001b[0m \u001b[32m━━━━━━━━━━━━━━━━━━━━\u001b[0m\u001b[37m\u001b[0m \u001b[1m63s\u001b[0m 13s/step - accuracy: 0.6016 - loss: 1.1586 - val_accuracy: 0.5694 - val_loss: 1.2092\n",
            "Epoch 48/129\n",
            "\u001b[1m5/5\u001b[0m \u001b[32m━━━━━━━━━━━━━━━━━━━━\u001b[0m\u001b[37m\u001b[0m \u001b[1m62s\u001b[0m 12s/step - accuracy: 0.5775 - loss: 1.1398 - val_accuracy: 0.5556 - val_loss: 1.2824\n",
            "Epoch 49/129\n",
            "\u001b[1m5/5\u001b[0m \u001b[32m━━━━━━━━━━━━━━━━━━━━\u001b[0m\u001b[37m\u001b[0m \u001b[1m62s\u001b[0m 12s/step - accuracy: 0.5441 - loss: 1.2296 - val_accuracy: 0.6111 - val_loss: 1.2365\n",
            "Epoch 50/129\n",
            "\u001b[1m5/5\u001b[0m \u001b[32m━━━━━━━━━━━━━━━━━━━━\u001b[0m\u001b[37m\u001b[0m \u001b[1m82s\u001b[0m 12s/step - accuracy: 0.5418 - loss: 1.1961 - val_accuracy: 0.5417 - val_loss: 1.3108\n",
            "Epoch 51/129\n",
            "\u001b[1m5/5\u001b[0m \u001b[32m━━━━━━━━━━━━━━━━━━━━\u001b[0m\u001b[37m\u001b[0m \u001b[1m89s\u001b[0m 15s/step - accuracy: 0.5930 - loss: 1.0640 - val_accuracy: 0.5278 - val_loss: 1.2975\n",
            "Epoch 52/129\n",
            "\u001b[1m5/5\u001b[0m \u001b[32m━━━━━━━━━━━━━━━━━━━━\u001b[0m\u001b[37m\u001b[0m \u001b[1m62s\u001b[0m 12s/step - accuracy: 0.5843 - loss: 1.1285 - val_accuracy: 0.5694 - val_loss: 1.1447\n",
            "Epoch 53/129\n",
            "\u001b[1m5/5\u001b[0m \u001b[32m━━━━━━━━━━━━━━━━━━━━\u001b[0m\u001b[37m\u001b[0m \u001b[1m81s\u001b[0m 12s/step - accuracy: 0.6049 - loss: 1.0505 - val_accuracy: 0.6667 - val_loss: 1.1440\n",
            "Epoch 54/129\n",
            "\u001b[1m5/5\u001b[0m \u001b[32m━━━━━━━━━━━━━━━━━━━━\u001b[0m\u001b[37m\u001b[0m \u001b[1m61s\u001b[0m 12s/step - accuracy: 0.5864 - loss: 1.1013 - val_accuracy: 0.5556 - val_loss: 1.1619\n",
            "Epoch 55/129\n",
            "\u001b[1m5/5\u001b[0m \u001b[32m━━━━━━━━━━━━━━━━━━━━\u001b[0m\u001b[37m\u001b[0m \u001b[1m61s\u001b[0m 14s/step - accuracy: 0.6137 - loss: 1.0729 - val_accuracy: 0.5833 - val_loss: 1.2743\n",
            "Epoch 56/129\n",
            "\u001b[1m5/5\u001b[0m \u001b[32m━━━━━━━━━━━━━━━━━━━━\u001b[0m\u001b[37m\u001b[0m \u001b[1m61s\u001b[0m 12s/step - accuracy: 0.5987 - loss: 1.0981 - val_accuracy: 0.5833 - val_loss: 1.1511\n",
            "Epoch 57/129\n",
            "\u001b[1m5/5\u001b[0m \u001b[32m━━━━━━━━━━━━━━━━━━━━\u001b[0m\u001b[37m\u001b[0m \u001b[1m63s\u001b[0m 12s/step - accuracy: 0.6333 - loss: 1.0500 - val_accuracy: 0.5972 - val_loss: 1.0991\n",
            "Epoch 58/129\n",
            "\u001b[1m5/5\u001b[0m \u001b[32m━━━━━━━━━━━━━━━━━━━━\u001b[0m\u001b[37m\u001b[0m \u001b[1m80s\u001b[0m 12s/step - accuracy: 0.6493 - loss: 0.9659 - val_accuracy: 0.5972 - val_loss: 1.3157\n",
            "Epoch 59/129\n",
            "\u001b[1m5/5\u001b[0m \u001b[32m━━━━━━━━━━━━━━━━━━━━\u001b[0m\u001b[37m\u001b[0m \u001b[1m62s\u001b[0m 14s/step - accuracy: 0.6382 - loss: 1.0345 - val_accuracy: 0.6111 - val_loss: 1.1126\n",
            "Epoch 60/129\n",
            "\u001b[1m5/5\u001b[0m \u001b[32m━━━━━━━━━━━━━━━━━━━━\u001b[0m\u001b[37m\u001b[0m \u001b[1m89s\u001b[0m 15s/step - accuracy: 0.6370 - loss: 1.0347 - val_accuracy: 0.5556 - val_loss: 1.2811\n",
            "Epoch 61/129\n",
            "\u001b[1m5/5\u001b[0m \u001b[32m━━━━━━━━━━━━━━━━━━━━\u001b[0m\u001b[37m\u001b[0m \u001b[1m75s\u001b[0m 12s/step - accuracy: 0.6306 - loss: 1.0741 - val_accuracy: 0.5972 - val_loss: 1.1341\n",
            "Epoch 62/129\n",
            "\u001b[1m5/5\u001b[0m \u001b[32m━━━━━━━━━━━━━━━━━━━━\u001b[0m\u001b[37m\u001b[0m \u001b[1m82s\u001b[0m 12s/step - accuracy: 0.6161 - loss: 1.0564 - val_accuracy: 0.5833 - val_loss: 1.2224\n",
            "Epoch 63/129\n",
            "\u001b[1m5/5\u001b[0m \u001b[32m━━━━━━━━━━━━━━━━━━━━\u001b[0m\u001b[37m\u001b[0m \u001b[1m62s\u001b[0m 12s/step - accuracy: 0.6671 - loss: 0.9477 - val_accuracy: 0.5694 - val_loss: 1.1807\n",
            "Epoch 64/129\n",
            "\u001b[1m5/5\u001b[0m \u001b[32m━━━━━━━━━━━━━━━━━━━━\u001b[0m\u001b[37m\u001b[0m \u001b[1m83s\u001b[0m 13s/step - accuracy: 0.6133 - loss: 1.0410 - val_accuracy: 0.6806 - val_loss: 1.1232\n",
            "Epoch 65/129\n",
            "\u001b[1m5/5\u001b[0m \u001b[32m━━━━━━━━━━━━━━━━━━━━\u001b[0m\u001b[37m\u001b[0m \u001b[1m62s\u001b[0m 12s/step - accuracy: 0.6173 - loss: 1.0207 - val_accuracy: 0.5694 - val_loss: 1.2786\n",
            "Epoch 66/129\n",
            "\u001b[1m5/5\u001b[0m \u001b[32m━━━━━━━━━━━━━━━━━━━━\u001b[0m\u001b[37m\u001b[0m \u001b[1m61s\u001b[0m 12s/step - accuracy: 0.6378 - loss: 0.9706 - val_accuracy: 0.5833 - val_loss: 1.2179\n",
            "Epoch 67/129\n",
            "\u001b[1m5/5\u001b[0m \u001b[32m━━━━━━━━━━━━━━━━━━━━\u001b[0m\u001b[37m\u001b[0m \u001b[1m82s\u001b[0m 12s/step - accuracy: 0.6696 - loss: 0.9846 - val_accuracy: 0.5833 - val_loss: 1.2332\n",
            "Epoch 68/129\n",
            "\u001b[1m5/5\u001b[0m \u001b[32m━━━━━━━━━━━━━━━━━━━━\u001b[0m\u001b[37m\u001b[0m \u001b[1m82s\u001b[0m 12s/step - accuracy: 0.6630 - loss: 0.9977 - val_accuracy: 0.5833 - val_loss: 1.1372\n",
            "Epoch 69/129\n",
            "\u001b[1m5/5\u001b[0m \u001b[32m━━━━━━━━━━━━━━━━━━━━\u001b[0m\u001b[37m\u001b[0m \u001b[1m62s\u001b[0m 12s/step - accuracy: 0.6708 - loss: 0.9023 - val_accuracy: 0.5833 - val_loss: 1.2735\n",
            "Epoch 70/129\n",
            "\u001b[1m5/5\u001b[0m \u001b[32m━━━━━━━━━━━━━━━━━━━━\u001b[0m\u001b[37m\u001b[0m \u001b[1m63s\u001b[0m 12s/step - accuracy: 0.6687 - loss: 0.9339 - val_accuracy: 0.6111 - val_loss: 1.1237\n",
            "Epoch 71/129\n",
            "\u001b[1m5/5\u001b[0m \u001b[32m━━━━━━━━━━━━━━━━━━━━\u001b[0m\u001b[37m\u001b[0m \u001b[1m82s\u001b[0m 14s/step - accuracy: 0.6983 - loss: 0.8092 - val_accuracy: 0.5278 - val_loss: 1.3373\n",
            "Epoch 72/129\n",
            "\u001b[1m5/5\u001b[0m \u001b[32m━━━━━━━━━━━━━━━━━━━━\u001b[0m\u001b[37m\u001b[0m \u001b[1m62s\u001b[0m 14s/step - accuracy: 0.6332 - loss: 1.0036 - val_accuracy: 0.5556 - val_loss: 1.1721\n",
            "Epoch 73/129\n",
            "\u001b[1m5/5\u001b[0m \u001b[32m━━━━━━━━━━━━━━━━━━━━\u001b[0m\u001b[37m\u001b[0m \u001b[1m62s\u001b[0m 12s/step - accuracy: 0.6797 - loss: 0.8860 - val_accuracy: 0.5556 - val_loss: 1.2142\n",
            "Epoch 74/129\n",
            "\u001b[1m4/5\u001b[0m \u001b[32m━━━━━━━━━━━━━━━━\u001b[0m\u001b[37m━━━━\u001b[0m \u001b[1m10s\u001b[0m 11s/step - accuracy: 0.7267 - loss: 0.7927"
          ]
        }
      ],
      "source": [
        "import json\n",
        "\n",
        "# Train the model and capture the training history\n",
        "history = model.fit(\n",
        "    train_dataset_final,\n",
        "    epochs=129,\n",
        "    validation_data=validation_dataset_final,\n",
        "    callbacks=[EarlyStoppingCallback()]\n",
        ")\n",
        "\n",
        "# Save the trained model to an HDF5 file\n",
        "model.save('my_model.h5')  # Save model\n",
        "\n",
        "# Save the training history to a JSON file\n",
        "with open('training_history.json', 'w') as f:\n",
        "    json.dump(history.history, f)\n",
        "\n",
        "# If you want to save history as a numpy array or CSV\n",
        "history_data = np.array([history.history['loss'], history.history['val_loss'],\n",
        "                          history.history['accuracy'], history.history['val_accuracy']]).T\n",
        "\n",
        "np.savetxt('training_history.csv', history_data, delimiter=',',\n",
        "           header='loss,val_loss,accuracy,val_accuracy', comments='')\n"
      ]
    },
    {
      "cell_type": "code",
      "execution_count": null,
      "metadata": {
        "id": "goWUh6xtICzB"
      },
      "outputs": [],
      "source": [
        "# Get training and validation accuracies\n",
        "acc = history.history['accuracy']\n",
        "val_acc = history.history['val_accuracy']\n",
        "loss = history.history['loss']\n",
        "val_loss = history.history['val_loss']\n",
        "\n",
        "# Get number of epochs\n",
        "epochs = range(len(acc))\n",
        "\n",
        "fig, ax = plt.subplots(1, 2, figsize=(10, 5))\n",
        "fig.suptitle('Training and validation accuracy')\n",
        "\n",
        "for i, (data, label) in enumerate(zip([(acc, val_acc), (loss, val_loss)], [\"Accuracy\", \"Loss\"])):\n",
        "    ax[i].plot(epochs, data[0], 'r', label=\"Training \" + label)\n",
        "    ax[i].plot(epochs, data[1], 'b', label=\"Validation \" + label)\n",
        "    ax[i].legend()\n",
        "    ax[i].set_xlabel('epochs')\n",
        "\n",
        "plt.show()"
      ]
    },
    {
      "cell_type": "code",
      "execution_count": null,
      "metadata": {
        "id": "kBSrLOS7f98d"
      },
      "outputs": [],
      "source": [
        "import tensorflow as tf\n",
        "\n",
        "# Load the saved model\n",
        "model = tf.keras.models.load_model('/content/my_model.h5')\n"
      ]
    },
    {
      "cell_type": "code",
      "execution_count": null,
      "metadata": {
        "id": "mTDbVFGpf_BG"
      },
      "outputs": [],
      "source": [
        "import numpy as np\n",
        "import matplotlib.pyplot as plt\n",
        "from tensorflow.keras.utils import load_img, img_to_array\n",
        "\n",
        "def load_and_predict(model, image_path):\n",
        "    # Load and preprocess the image\n",
        "    img = load_img(image_path, target_size=(200, 200))  # Resize to match model input\n",
        "    img_array = img_to_array(img)  # Convert to numpy array\n",
        "    img_array = img_array.reshape((1,) + img_array.shape)  # Add batch dimension\n",
        "    img_array = img_array / 255.0  # Normalize to [0, 1]\n",
        "\n",
        "    # Make a prediction\n",
        "    predictions = model.predict(img_array)\n",
        "\n",
        "    # Print predictions and the class with the highest probability\n",
        "    print(\"Predictions:\", predictions)\n",
        "    predicted_class = np.argmax(predictions[0])\n",
        "    print(\"Predicted Class:\", predicted_class)\n",
        "\n",
        "    # Plot the image and prediction\n",
        "    plt.imshow(img)\n",
        "    plt.title(f\"Predicted Class: {predicted_class}\")\n",
        "    plt.axis('off')\n",
        "    plt.show()\n",
        "\n",
        "# Example call\n",
        "load_and_predict(model, '/content/Image_6(1).jpg')\n"
      ]
    }
  ],
  "metadata": {
    "accelerator": "TPU",
    "colab": {
      "gpuType": "V28",
      "provenance": [],
      "mount_file_id": "1MJrvJ0UUIHqvP2JTiO96orLBlhCrVHkl",
      "authorship_tag": "ABX9TyOYjXjxHegj+9dCgoYbJseI",
      "include_colab_link": true
    },
    "kernelspec": {
      "display_name": "Python 3",
      "name": "python3"
    },
    "language_info": {
      "name": "python"
    }
  },
  "nbformat": 4,
  "nbformat_minor": 0
}